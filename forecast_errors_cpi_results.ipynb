{
 "cells": [
  {
   "cell_type": "markdown",
   "metadata": {},
   "source": [
    "_Andre Binette_ <abinette@bankofcanada.ca>\n",
    "\n",
    "_Alexa Evans_ <aevans@bank-banque-canada.ca>\n",
    "\n",
    "_Dmitri Tchebotarev_ <dtchebotarev@bankofcanada.ca>"
   ]
  },
  {
   "cell_type": "markdown",
   "metadata": {},
   "source": [
    "# MPR Forecast for CPI"
   ]
  },
  {
   "cell_type": "markdown",
   "metadata": {},
   "source": [
    "This workbook should \"just work\". If it does not, or if you find an error, please email the authors above."
   ]
  },
  {
   "cell_type": "markdown",
   "metadata": {},
   "source": [
    "# Set up the python environment"
   ]
  },
  {
   "cell_type": "markdown",
   "metadata": {},
   "source": [
    "### Display plots inline"
   ]
  },
  {
   "cell_type": "code",
   "execution_count": 1,
   "metadata": {},
   "outputs": [],
   "source": [
    "%matplotlib inline"
   ]
  },
  {
   "cell_type": "markdown",
   "metadata": {},
   "source": [
    "### Import required modules "
   ]
  },
  {
   "cell_type": "code",
   "execution_count": 2,
   "metadata": {},
   "outputs": [
    {
     "name": "stderr",
     "output_type": "stream",
     "text": [
      "/home/int/tche/.conda/envs/d/lib/python3.6/site-packages/statsmodels/compat/pandas.py:56: FutureWarning: The pandas.core.datetools module is deprecated and will be removed in a future version. Please use the pandas.tseries module instead.\n",
      "  from pandas.core import datetools\n"
     ]
    }
   ],
   "source": [
    "import pandas as pd\n",
    "import numpy as np\n",
    "import statsmodels.api as sm\n",
    "import matplotlib.pyplot as plt\n",
    "from matplotlib.patches import Ellipse\n",
    "import seaborn as sns"
   ]
  },
  {
   "cell_type": "markdown",
   "metadata": {},
   "source": [
    "### Display options"
   ]
  },
  {
   "cell_type": "code",
   "execution_count": 3,
   "metadata": {},
   "outputs": [],
   "source": [
    "pd.set_option('display.max_colwidth',-1)\n",
    "sns.set(context='paper',rc={'figure.facecolor':'white','axes.facecolor':'gainsboro','grid.color':'white'})"
   ]
  },
  {
   "cell_type": "markdown",
   "metadata": {},
   "source": [
    "## Import data"
   ]
  },
  {
   "cell_type": "markdown",
   "metadata": {},
   "source": [
    "Download data from BoC website"
   ]
  },
  {
   "cell_type": "code",
   "execution_count": 4,
   "metadata": {},
   "outputs": [],
   "source": [
    "web_data = pd.read_csv(\\\n",
    "        'http://www.bankofcanada.ca/valet/observations/group/SAN-2017-21/csv',\\\n",
    "                       skiprows=37,index_col=0)\n",
    "web_data.index=pd.to_datetime(web_data.index).year\n",
    "web_data.index.name = 'Year'"
   ]
  },
  {
   "cell_type": "markdown",
   "metadata": {},
   "source": [
    "### CPI data"
   ]
  },
  {
   "cell_type": "code",
   "execution_count": 5,
   "metadata": {},
   "outputs": [],
   "source": [
    "cpi_data = web_data.loc[:,['SAN_2017_21_TOTAL_CPI']]\n",
    "cpi_data.columns = ['Total CPI']\n",
    "cpi_data = cpi_data.dropna()"
   ]
  },
  {
   "cell_type": "markdown",
   "metadata": {},
   "source": [
    "### Forecast data - MPR"
   ]
  },
  {
   "cell_type": "code",
   "execution_count": 6,
   "metadata": {},
   "outputs": [],
   "source": [
    "# For FH4 2003-2005, we used Q3 and Q4 from the MPR and Q1 and Q2 using actual data from StatsCan \n",
    "# For 2017 FH1, we have used the underlying data from chart 25 in the April 2016 MPR \n",
    "fcast = web_data.iloc[:,0:4]\n",
    "fcast.columns = ['FH1','FH2','FH3','FH4']\n",
    "fcast = fcast.dropna(how='all')"
   ]
  },
  {
   "cell_type": "markdown",
   "metadata": {},
   "source": [
    "## Define helper functions"
   ]
  },
  {
   "cell_type": "code",
   "execution_count": 7,
   "metadata": {},
   "outputs": [],
   "source": [
    "# make all y axes in a plot have the same min/max. based on\n",
    "# the most extreme values of all the axes.\n",
    "def y_axes(plt):\n",
    "    axmin = min([ax.get_ylim()[0] for ax in plt.gcf().axes])\n",
    "    axmax = max([ax.get_ylim()[1] for ax in plt.gcf().axes])\n",
    "    for ax in plt.gcf().axes:\n",
    "        ax.set_ylim(axmin,axmax)"
   ]
  },
  {
   "cell_type": "code",
   "execution_count": 8,
   "metadata": {},
   "outputs": [],
   "source": [
    "# take a number and return a string, formatted 0.00\n",
    "def f1(x):\n",
    "    return '{:1.2f}'.format(x)"
   ]
  },
  {
   "cell_type": "markdown",
   "metadata": {},
   "source": [
    "# Data"
   ]
  },
  {
   "cell_type": "markdown",
   "metadata": {},
   "source": [
    "Create forecast errors by subtracting forecast from total CPI. "
   ]
  },
  {
   "cell_type": "code",
   "execution_count": 9,
   "metadata": {},
   "outputs": [],
   "source": [
    "cpi_total = pd.DataFrame(columns = ['FH1', 'FH2','FH3','FH4'], index=cpi_data.index,\n",
    "                             data = np.tile(cpi_data.values,[1,4])\n",
    "                            )\n",
    "forecast_errors = cpi_total.subtract(fcast).dropna(how='all').round(2)"
   ]
  },
  {
   "cell_type": "markdown",
   "metadata": {},
   "source": [
    "Create RMSPE series."
   ]
  },
  {
   "cell_type": "code",
   "execution_count": 10,
   "metadata": {},
   "outputs": [],
   "source": [
    "rmse_forecast = pd.DataFrame()\n",
    "for col in ['FH1','FH2','FH3','FH4']:\n",
    "    rmse_forecast.loc['RMSE',col] = np.sqrt(forecast_errors.loc[:,col].pow(2).mean())\n",
    "rmse_forecast.columns.name='Forecast Horizon'\n",
    "rmse_forecast.index.name='Sample'"
   ]
  },
  {
   "cell_type": "markdown",
   "metadata": {},
   "source": [
    "Scale RMSPE by benchmarks.\n"
   ]
  },
  {
   "cell_type": "code",
   "execution_count": 11,
   "metadata": {},
   "outputs": [],
   "source": [
    "rmse_naive = rmse_forecast.divide([.71,.74,.55,.21])"
   ]
  },
  {
   "cell_type": "code",
   "execution_count": 12,
   "metadata": {},
   "outputs": [],
   "source": [
    "rmse_cons = rmse_forecast.divide([0.71,0.69,0.37,0.16])"
   ]
  },
  {
   "cell_type": "markdown",
   "metadata": {},
   "source": [
    "Create target errors. (Assume forecast is always 2%.)"
   ]
  },
  {
   "cell_type": "code",
   "execution_count": 13,
   "metadata": {},
   "outputs": [],
   "source": [
    "target_errors = cpi_data.subtract(2)"
   ]
  },
  {
   "cell_type": "markdown",
   "metadata": {},
   "source": [
    "Create RMSPE from target errors. Values are hard-coded because they are calculated outside of the file."
   ]
  },
  {
   "cell_type": "code",
   "execution_count": 14,
   "metadata": {},
   "outputs": [],
   "source": [
    "rmse_target = pd.DataFrame()\n",
    "for col in ['FH1','FH2','FH3','FH4']:\n",
    "    rmse_target.loc['RMSE',col] = np.sqrt(target_errors.pow(2).mean()).item()\n",
    "rmse_target.columns.name='Forecast Horizon'\n",
    "rmse_target.index.name='Sample'"
   ]
  },
  {
   "cell_type": "markdown",
   "metadata": {},
   "source": [
    "# Figures"
   ]
  },
  {
   "cell_type": "markdown",
   "metadata": {},
   "source": [
    "## Figure 1"
   ]
  },
  {
   "cell_type": "code",
   "execution_count": 15,
   "metadata": {},
   "outputs": [
    {
     "data": {
      "image/png": "[encoded data removed]",
      "text/plain": [
       "<matplotlib.figure.Figure at 0x2ba166e8b2b0>"
      ]
     },
     "metadata": {},
     "output_type": "display_data"
    }
   ],
   "source": [
    "plt.figure(figsize=(8,4))\n",
    "ax = plt.subplot(111)\n",
    "pal = sns.color_palette('Blues',n_colors=7)\n",
    "for i in range(4):\n",
    "    ax.plot(forecast_errors.iloc[:,i],color=pal[i+2])\n",
    "ax.axhline(y=0,c='k',zorder=1,linewidth=.75)\n",
    "ax.legend(loc='upper center', bbox_to_anchor=(0.5, -0.15),ncol=4)\n",
    "ax.set_xticks([v for i, v in enumerate(forecast_errors.index.append(pd.Index([2017,2018]))) if i % 4 == 0])\n",
    "box = ax.get_position()\n",
    "ax.set_position([box.x0, box.y0 + box.height * 0.2,\n",
    "                 box.width, box.height * 0.8])\n",
    "ax.set_ylabel(\"Percentage points\")\n",
    "ax.set_xlabel('Year');\n",
    "ax.set_xticks([v for i, v in enumerate(forecast_errors.index) if i % 2 == 0]);"
   ]
  },
  {
   "cell_type": "markdown",
   "metadata": {},
   "source": [
    "## Figure 2"
   ]
  },
  {
   "cell_type": "code",
   "execution_count": 16,
   "metadata": {},
   "outputs": [
    {
     "data": {
      "image/png": "[encoded data removed]",
      "text/plain": [
       "<matplotlib.figure.Figure at 0x2ba166e77f60>"
      ]
     },
     "metadata": {},
     "output_type": "display_data"
    }
   ],
   "source": [
    "plt.figure(figsize=(8,4))\n",
    "p = plt.subplot(121)\n",
    "sns.barplot(data=rmse_naive,ax=p,zorder=2)\n",
    "p.set_title(\"Ratio of $RMSPE_{BoC}$ to $RMSPE_{Naïve}$\",fontsize='small')\n",
    "plt.axhline(y=1,zorder=1,color='k',linewidth=.75)\n",
    "\n",
    "p = plt.subplot(122)\n",
    "sns.barplot(data=rmse_cons,ax=p,zorder=2)\n",
    "p.set_title(\"Ratio of $RMSPE_{BoC}$ to $RMSPE_{Consensus}$\",fontsize='small')\n",
    "plt.axhline(y=1,zorder=1,color='k',linewidth=.75);\n",
    "y_axes(plt)"
   ]
  },
  {
   "cell_type": "markdown",
   "metadata": {},
   "source": [
    "# Tables"
   ]
  },
  {
   "cell_type": "markdown",
   "metadata": {},
   "source": [
    "## Table B1"
   ]
  },
  {
   "cell_type": "code",
   "execution_count": 17,
   "metadata": {},
   "outputs": [
    {
     "data": {
      "text/html": [
       "<div>\n",
       "<style>\n",
       "    .dataframe thead tr:only-child th {\n",
       "        text-align: right;\n",
       "    }\n",
       "\n",
       "    .dataframe thead th {\n",
       "        text-align: left;\n",
       "    }\n",
       "\n",
       "    .dataframe tbody tr th {\n",
       "        vertical-align: top;\n",
       "    }\n",
       "</style>\n",
       "<table border=\"1\" class=\"dataframe\">\n",
       "  <thead>\n",
       "    <tr style=\"text-align: right;\">\n",
       "      <th>Forecast Horizon</th>\n",
       "      <th>FH1</th>\n",
       "      <th>FH2</th>\n",
       "      <th>FH3</th>\n",
       "      <th>FH4</th>\n",
       "    </tr>\n",
       "    <tr>\n",
       "      <th>Sample</th>\n",
       "      <th></th>\n",
       "      <th></th>\n",
       "      <th></th>\n",
       "      <th></th>\n",
       "    </tr>\n",
       "  </thead>\n",
       "  <tbody>\n",
       "    <tr>\n",
       "      <th>RMSE</th>\n",
       "      <td>0.68</td>\n",
       "      <td>0.55</td>\n",
       "      <td>0.37</td>\n",
       "      <td>0.12</td>\n",
       "    </tr>\n",
       "  </tbody>\n",
       "</table>\n",
       "</div>"
      ],
      "text/plain": [
       "Forecast Horizon   FH1   FH2   FH3   FH4\n",
       "Sample                                  \n",
       "RMSE              0.68  0.55  0.37  0.12"
      ]
     },
     "execution_count": 17,
     "metadata": {},
     "output_type": "execute_result"
    }
   ],
   "source": [
    "rmse_forecast.round(2)"
   ]
  },
  {
   "cell_type": "markdown",
   "metadata": {},
   "source": [
    "# Numbers mentioned in the text"
   ]
  },
  {
   "cell_type": "markdown",
   "metadata": {},
   "source": [
    "_...blindly using a two per cent forecast..._"
   ]
  },
  {
   "cell_type": "code",
   "execution_count": 18,
   "metadata": {},
   "outputs": [
    {
     "data": {
      "text/html": [
       "<div>\n",
       "<style>\n",
       "    .dataframe thead tr:only-child th {\n",
       "        text-align: right;\n",
       "    }\n",
       "\n",
       "    .dataframe thead th {\n",
       "        text-align: left;\n",
       "    }\n",
       "\n",
       "    .dataframe tbody tr th {\n",
       "        vertical-align: top;\n",
       "    }\n",
       "</style>\n",
       "<table border=\"1\" class=\"dataframe\">\n",
       "  <thead>\n",
       "    <tr style=\"text-align: right;\">\n",
       "      <th>Forecast Horizon</th>\n",
       "      <th>FH1</th>\n",
       "      <th>FH2</th>\n",
       "      <th>FH3</th>\n",
       "      <th>FH4</th>\n",
       "    </tr>\n",
       "    <tr>\n",
       "      <th>Sample</th>\n",
       "      <th></th>\n",
       "      <th></th>\n",
       "      <th></th>\n",
       "      <th></th>\n",
       "    </tr>\n",
       "  </thead>\n",
       "  <tbody>\n",
       "    <tr>\n",
       "      <th>RMSE</th>\n",
       "      <td>0.719126</td>\n",
       "      <td>0.719126</td>\n",
       "      <td>0.719126</td>\n",
       "      <td>0.719126</td>\n",
       "    </tr>\n",
       "  </tbody>\n",
       "</table>\n",
       "</div>"
      ],
      "text/plain": [
       "Forecast Horizon       FH1       FH2       FH3       FH4\n",
       "Sample                                                  \n",
       "RMSE              0.719126  0.719126  0.719126  0.719126"
      ]
     },
     "execution_count": 18,
     "metadata": {},
     "output_type": "execute_result"
    }
   ],
   "source": [
    "rmse_target"
   ]
  },
  {
   "cell_type": "code",
   "execution_count": 19,
   "metadata": {},
   "outputs": [
    {
     "data": {
      "text/html": [
       "<div>\n",
       "<style>\n",
       "    .dataframe thead tr:only-child th {\n",
       "        text-align: right;\n",
       "    }\n",
       "\n",
       "    .dataframe thead th {\n",
       "        text-align: left;\n",
       "    }\n",
       "\n",
       "    .dataframe tbody tr th {\n",
       "        vertical-align: top;\n",
       "    }\n",
       "</style>\n",
       "<table border=\"1\" class=\"dataframe\">\n",
       "  <thead>\n",
       "    <tr style=\"text-align: right;\">\n",
       "      <th>Forecast Horizon</th>\n",
       "      <th>FH1</th>\n",
       "      <th>FH2</th>\n",
       "      <th>FH3</th>\n",
       "      <th>FH4</th>\n",
       "    </tr>\n",
       "    <tr>\n",
       "      <th>Sample</th>\n",
       "      <th></th>\n",
       "      <th></th>\n",
       "      <th></th>\n",
       "      <th></th>\n",
       "    </tr>\n",
       "  </thead>\n",
       "  <tbody>\n",
       "    <tr>\n",
       "      <th>RMSE</th>\n",
       "      <td>0.961626</td>\n",
       "      <td>0.738265</td>\n",
       "      <td>0.668043</td>\n",
       "      <td>0.569156</td>\n",
       "    </tr>\n",
       "  </tbody>\n",
       "</table>\n",
       "</div>"
      ],
      "text/plain": [
       "Forecast Horizon       FH1       FH2       FH3       FH4\n",
       "Sample                                                  \n",
       "RMSE              0.961626  0.738265  0.668043  0.569156"
      ]
     },
     "execution_count": 19,
     "metadata": {},
     "output_type": "execute_result"
    }
   ],
   "source": [
    "rmse_naive"
   ]
  }
 ],
 "metadata": {
  "anaconda-cloud": {},
  "kernelspec": {
   "display_name": "Python 3",
   "language": "python",
   "name": "python3"
  },
  "language_info": {
   "codemirror_mode": {
    "name": "ipython",
    "version": 3
   },
   "file_extension": ".py",
   "mimetype": "text/x-python",
   "name": "python",
   "nbconvert_exporter": "python",
   "pygments_lexer": "ipython3",
   "version": "3.6.3"
  }
 },
 "nbformat": 4,
 "nbformat_minor": 2
}
