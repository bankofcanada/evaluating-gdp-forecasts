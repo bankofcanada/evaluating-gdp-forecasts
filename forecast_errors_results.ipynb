{
 "cells": [
  {
   "cell_type": "markdown",
   "metadata": {},
   "source": [
    "_Andre Binette_ <abinette@bankofcanada.ca>\n",
    "\n",
    "_Dmitri Tchebotarev_ <dtchebotarev@bankofcanada.ca>"
   ]
  },
  {
   "cell_type": "markdown",
   "metadata": {},
   "source": [
    "# MPR Forecast for real GDP growth"
   ]
  },
  {
   "cell_type": "markdown",
   "metadata": {},
   "source": [
    "This workbook should \"just work\". If it does not, or if you find an error, please email the authors above."
   ]
  },
  {
   "cell_type": "markdown",
   "metadata": {},
   "source": [
    "# Set up the python environment"
   ]
  },
  {
   "cell_type": "markdown",
   "metadata": {},
   "source": [
    "### Display plots inline"
   ]
  },
  {
   "cell_type": "code",
   "execution_count": 1,
   "metadata": {},
   "outputs": [],
   "source": [
    "%matplotlib inline"
   ]
  },
  {
   "cell_type": "markdown",
   "metadata": {},
   "source": [
    "### Import required modules "
   ]
  },
  {
   "cell_type": "code",
   "execution_count": 2,
   "metadata": {},
   "outputs": [
    {
     "name": "stderr",
     "output_type": "stream",
     "text": [
      "/home/int/tche/.conda/envs/d/lib/python3.6/site-packages/statsmodels/compat/pandas.py:56: FutureWarning: The pandas.core.datetools module is deprecated and will be removed in a future version. Please use the pandas.tseries module instead.\n",
      "  from pandas.core import datetools\n"
     ]
    }
   ],
   "source": [
    "import pandas as pd\n",
    "import numpy as np\n",
    "import statsmodels.api as sm\n",
    "import matplotlib.pyplot as plt\n",
    "from matplotlib.patches import Ellipse\n",
    "import seaborn as sns"
   ]
  },
  {
   "cell_type": "markdown",
   "metadata": {},
   "source": [
    "### Display options"
   ]
  },
  {
   "cell_type": "code",
   "execution_count": 3,
   "metadata": {},
   "outputs": [],
   "source": [
    "pd.set_option('display.max_colwidth',-1)\n",
    "sns.set(context='paper',rc={'figure.facecolor':'white','axes.facecolor':'gainsboro','grid.color':'white'})"
   ]
  },
  {
   "cell_type": "markdown",
   "metadata": {},
   "source": [
    "## Import data"
   ]
  },
  {
   "cell_type": "markdown",
   "metadata": {},
   "source": [
    "Download data from BoC website"
   ]
  },
  {
   "cell_type": "code",
   "execution_count": 4,
   "metadata": {},
   "outputs": [],
   "source": [
    "web_data = pd.read_csv(\\\n",
    "        'http://www.bankofcanada.ca/valet/observations/group/SAN-2017-21/csv',\\\n",
    "                       skiprows=37,index_col=0)\n",
    "web_data.index=pd.to_datetime(web_data.index).year\n",
    "web_data.index.name = 'Year'"
   ]
  },
  {
   "cell_type": "markdown",
   "metadata": {},
   "source": [
    "### GDP data"
   ]
  },
  {
   "cell_type": "code",
   "execution_count": 5,
   "metadata": {
    "scrolled": true
   },
   "outputs": [],
   "source": [
    "gdp_data = web_data.iloc[:,[11,13,12,9,10,14,15]]\n",
    "gdp_data = gdp_data.dropna(how='all')\n",
    "gdp_data.columns = ['real GDP (fisher)','real GDP (laspeyres)','nominal GDP',\n",
    "                    'real R&D','nominal R&D','real weapons','nominal weapons']"
   ]
  },
  {
   "cell_type": "markdown",
   "metadata": {},
   "source": [
    "### Forecast data - MPR"
   ]
  },
  {
   "cell_type": "code",
   "execution_count": 6,
   "metadata": {},
   "outputs": [],
   "source": [
    "fcast = web_data.iloc[:,5:9]\n",
    "fcast = fcast.dropna(how='all')\n",
    "fcast.columns = ['FH1','FH2','FH3','FH4']"
   ]
  },
  {
   "cell_type": "markdown",
   "metadata": {},
   "source": [
    "## Define helper functions"
   ]
  },
  {
   "cell_type": "code",
   "execution_count": 7,
   "metadata": {},
   "outputs": [],
   "source": [
    "# geometric average of percentage points\n",
    "# works on numbers, and various pandas and numpy types that\n",
    "# understand multiplication and division\n",
    "def gavg(*args):\n",
    "    n = 0\n",
    "    p = 1\n",
    "    for arg in args:\n",
    "        n += 1\n",
    "        arg = arg/100 + 1\n",
    "        p = p*arg\n",
    "    p = p ** (1/n)\n",
    "    p = p - 1\n",
    "    p = p * 100\n",
    "    return p"
   ]
  },
  {
   "cell_type": "code",
   "execution_count": 8,
   "metadata": {},
   "outputs": [],
   "source": [
    "# make all y axes in a plot have the same min/max. based on\n",
    "# the most extreme values of all the axes.\n",
    "def y_axes(plt):\n",
    "    axmin = min([ax.get_ylim()[0] for ax in plt.gcf().axes])\n",
    "    axmax = max([ax.get_ylim()[1] for ax in plt.gcf().axes])\n",
    "    for ax in plt.gcf().axes:\n",
    "        ax.set_ylim(axmin,axmax)"
   ]
  },
  {
   "cell_type": "code",
   "execution_count": 9,
   "metadata": {},
   "outputs": [],
   "source": [
    "# Take a number and return a string, formatted 0.00\n",
    "def f1(x):\n",
    "    return '{:1.2f}'.format(x)"
   ]
  },
  {
   "cell_type": "markdown",
   "metadata": {},
   "source": [
    "# Data\n",
    "## Creating adjusted real GDP figure"
   ]
  },
  {
   "cell_type": "markdown",
   "metadata": {},
   "source": [
    "Calculate Weapons and R&D's contribution to growth"
   ]
  },
  {
   "cell_type": "code",
   "execution_count": 10,
   "metadata": {},
   "outputs": [],
   "source": [
    "growth = gdp_data.loc[:,('real R&D','real weapons')].pct_change()*100\n",
    "share = pd.concat([\n",
    "    gdp_data.loc[:,'nominal R&D'].divide(gdp_data.loc[:,'nominal GDP']),\n",
    "    gdp_data.loc[:,'nominal weapons'].divide(gdp_data.loc[:,'nominal GDP'])\n",
    "                ],axis=1)\n",
    "share.columns = growth.columns\n",
    "CTG = share.shift(1)*growth\n",
    "CTG = CTG.loc[1997:2013]"
   ]
  },
  {
   "cell_type": "markdown",
   "metadata": {},
   "source": [
    "Breakdown of our adjustment to final GDP to match the GDP series at the time when forecasts were made."
   ]
  },
  {
   "cell_type": "code",
   "execution_count": 11,
   "metadata": {},
   "outputs": [],
   "source": [
    "appendix_b = gdp_data.loc[:,'real GDP (fisher)'].pct_change().loc[1997:]*100\n",
    "appendix_b.name = 'Chain Fisher (current methodology)'\n",
    "appendix_b = pd.concat([appendix_b,gdp_data.loc[:,'real GDP (laspeyres)'].pct_change().loc[1997:2002].subtract(appendix_b.divide(100)).rename('Laspeyres index')*100],axis=1)\n",
    "appendix_b.loc[1997:2002,'Software'] = np.array([.06,.05,.08,.08,.0675,.0675])\n",
    "appendix_b.loc[1997:2013,'R&D and Weapons'] = CTG.sum(axis=1)\n",
    "appendix_b.loc[:,'Adjusted GDP'] = appendix_b.loc[:,'Chain Fisher (current methodology)'] +\\\n",
    "                                    appendix_b.loc[:,'Laspeyres index'].fillna(0) -\\\n",
    "                                    appendix_b.loc[:,'Software'].fillna(0) -\\\n",
    "                                    appendix_b.loc[:,'R&D and Weapons'].fillna(0)"
   ]
  },
  {
   "cell_type": "markdown",
   "metadata": {},
   "source": [
    "Create a dataframe with the different forecast horizons. The dataframe has slight differences around 2001-2002 and 2013 so that the timing of the methodological changes matches the timing of the forecasts more closely. "
   ]
  },
  {
   "cell_type": "code",
   "execution_count": 12,
   "metadata": {},
   "outputs": [],
   "source": [
    "combined_gdp = pd.DataFrame(columns = ['FH1', 'FH2','FH3','FH4'], index=appendix_b.index, \n",
    "                             data = np.transpose(\n",
    "                                 np.tile(appendix_b.loc[:,'Adjusted GDP'].values,[4,1])\n",
    "                                                 )\n",
    "                            )\n",
    "combined_gdp.loc[2002,'FH2'] = appendix_b.loc[2002,'Chain Fisher (current methodology)'] - \\\n",
    "                                appendix_b.loc[2002,'R&D and Weapons']\n",
    "combined_gdp.loc[2013,'FH3'] = appendix_b.loc[2013,'Chain Fisher (current methodology)']\n",
    "combined_gdp.loc[2002,'FH3'] = combined_gdp.loc[2002,'FH2']\n",
    "combined_gdp.loc[2001,'FH4'] = appendix_b.loc[2001,'Chain Fisher (current methodology)'] - \\\n",
    "                                appendix_b.loc[2001,'R&D and Weapons']\n",
    "combined_gdp.loc[2002,'FH4'] = combined_gdp.loc[2002,'FH3']\n",
    "combined_gdp.loc[2013,'FH4'] = combined_gdp.loc[2013,'FH3']\n",
    "combined_gdp.loc[:,'APRIL'] = gavg(combined_gdp.loc[:,'FH3'].shift(1),combined_gdp.loc[:,'FH1'])\n",
    "combined_gdp.loc[:,'OCTOBER'] = gavg(combined_gdp.loc[:,'FH4'].shift(1),combined_gdp.loc[:,'FH2'])"
   ]
  },
  {
   "cell_type": "markdown",
   "metadata": {},
   "source": [
    "Create 2 year average of GDP growth"
   ]
  },
  {
   "cell_type": "code",
   "execution_count": 13,
   "metadata": {},
   "outputs": [],
   "source": [
    "gdp_data_2y = pd.DataFrame(index=appendix_b.index[1:],columns=appendix_b.columns)\n",
    "for col in gdp_data_2y.columns:\n",
    "    gdp_data_2y.loc[:,col] = gavg(appendix_b.loc[:,col].shift(1),appendix_b.loc[:,col])"
   ]
  },
  {
   "cell_type": "markdown",
   "metadata": {},
   "source": [
    "## Create MPR forecast dataframe\n",
    "Create 2 year average of forecast of GDP growth"
   ]
  },
  {
   "cell_type": "code",
   "execution_count": 14,
   "metadata": {},
   "outputs": [],
   "source": [
    "fcast_2y = pd.DataFrame(index = fcast.index[1:], columns = ['APRIL', 'OCTOBER'])\n",
    "fcast_2y.loc[:,'APRIL'] = gavg(fcast.loc[:,'FH3'].values[:-1],fcast.loc[:,'FH1'].values[1:])\n",
    "fcast_2y.loc[:,'OCTOBER'] = gavg(fcast.loc[:,'FH4'].values[:-1],fcast.loc[:,'FH2'].values[1:])"
   ]
  },
  {
   "cell_type": "markdown",
   "metadata": {},
   "source": [
    "## Create forecast errors"
   ]
  },
  {
   "cell_type": "code",
   "execution_count": 15,
   "metadata": {},
   "outputs": [],
   "source": [
    "combined_fcast = pd.concat((fcast,fcast_2y),axis=1)\n",
    "forecast_errors = combined_gdp.subtract(combined_fcast).dropna(how='all')\n",
    "combined_fcast.index.name='year'\n",
    "combined_gdp.index.name='year'\n",
    "combined_fcast.columns.name='Forecast Horizon'\n",
    "combined_gdp.columns.name='Forecast Horizon'"
   ]
  },
  {
   "cell_type": "markdown",
   "metadata": {},
   "source": [
    "## Create MPR RMSEs and ratio with naive and Consensus Economics RMSEs\n",
    "The values for the naive forecaster and CE are hardcoded because they are calculated outside this file."
   ]
  },
  {
   "cell_type": "code",
   "execution_count": 16,
   "metadata": {},
   "outputs": [],
   "source": [
    "# RMSE for MPR forecast\n",
    "rmse = pd.DataFrame()\n",
    "for col in ['FH1','FH2','FH3','FH4','APRIL','OCTOBER']:\n",
    "    val = np.sqrt(forecast_errors.loc[:,col].pow(2).mean())\n",
    "    rmse.loc['RMSE',col]=val.item()"
   ]
  },
  {
   "cell_type": "code",
   "execution_count": 17,
   "metadata": {},
   "outputs": [],
   "source": [
    "# naive forecasters\n",
    "rmse_gdp = rmse.divide([2.04,2.03,1.52,0.74,1.53,1.21])"
   ]
  },
  {
   "cell_type": "code",
   "execution_count": 18,
   "metadata": {},
   "outputs": [],
   "source": [
    "# consensus economics\n",
    "rmse_cons = rmse.divide([1.7388,1.6019,0.8739,0.6005,1.1112,0.9490])"
   ]
  },
  {
   "cell_type": "markdown",
   "metadata": {},
   "source": [
    "# Figures"
   ]
  },
  {
   "cell_type": "markdown",
   "metadata": {},
   "source": [
    "## Figure 1"
   ]
  },
  {
   "cell_type": "code",
   "execution_count": 19,
   "metadata": {},
   "outputs": [
    {
     "data": {
      "image/png": "[encoded data removed]",
      "text/plain": [
       "<matplotlib.figure.Figure at 0x2b3afeeb6cf8>"
      ]
     },
     "metadata": {},
     "output_type": "display_data"
    }
   ],
   "source": [
    "plt.figure(figsize=(8,4))\n",
    "ax = plt.subplot(121)\n",
    "ax.set_title(\"Annual forecasts\",fontsize='small')\n",
    "pal = sns.color_palette('Blues',n_colors=7)\n",
    "for i in range(4):\n",
    "    ax.plot(fcast.iloc[:,i],color=pal[i+2],linestyle='dashed')\n",
    "ax.set_ylabel('%')\n",
    "ax.set_xlabel('Year')\n",
    "ax.axhline(y=0,c='k',zorder=1,linewidth=.75)\n",
    "ax.set_xticks([v for i, v in enumerate(fcast.index) if i % 4 == 0])\n",
    "ax.legend(loc='upper center', bbox_to_anchor=(0.5, -0.15),ncol=4)\n",
    "box = ax.get_position()\n",
    "ax.set_position([box.x0, box.y0 + box.height * 0.2,\n",
    "                 box.width, box.height * 0.8])\n",
    "ax = plt.subplot(122)\n",
    "ax.set_title(\"Two-year forecasts\",fontsize='small')\n",
    "pal = sns.color_palette('Blues',n_colors=3)\n",
    "for i in range(4,6):\n",
    "    ax.plot(combined_fcast.iloc[:,i],color=pal[i-3],linestyle='dashed')\n",
    "ax.set_ylabel('%, geometric average')\n",
    "ax.set_xlabel('Year')\n",
    "ax.axhline(y=0,c='k',zorder=1,linewidth=.75)\n",
    "ax.set_xticks([v for i, v in enumerate(fcast.index[1:]) if i % 4 == 0])\n",
    "ax.legend(loc='upper center', bbox_to_anchor=(0.5, -0.15),ncol=3)\n",
    "box = ax.get_position()\n",
    "ax.set_position([box.x0, box.y0 + box.height * 0.2,\n",
    "                 box.width, box.height * 0.2])\n",
    "plt.subplots_adjust(bottom=.2, wspace=.5)\n",
    "y_axes(plt)"
   ]
  },
  {
   "cell_type": "markdown",
   "metadata": {},
   "source": [
    "## Figure 2"
   ]
  },
  {
   "cell_type": "code",
   "execution_count": 20,
   "metadata": {},
   "outputs": [
    {
     "data": {
      "image/png": "[encoded data removed]",
      "text/plain": [
       "<matplotlib.figure.Figure at 0x2b3b019dfe80>"
      ]
     },
     "metadata": {},
     "output_type": "display_data"
    }
   ],
   "source": [
    "plt.figure(figsize=(8,4))\n",
    "ax = plt.subplot(121)\n",
    "pal = sns.color_palette('Set1',n_colors=2)\n",
    "c1 = pal[1]\n",
    "ax.plot(appendix_b.iloc[:,0],color=pal[0],linestyle='dashed',label='Actual')\n",
    "ax.plot(appendix_b.iloc[:,4],color=pal[1],label='Adjusted real GDP series')\n",
    "ax.set_ylabel('%')\n",
    "ax.set_xlabel('Year')\n",
    "ax.axhline(y=0.0,c=\"k\",zorder=1,linewidth=.75)\n",
    "ax.axvline(x=2001,c=\"k\",linestyle='dashed',zorder=1,linewidth=.75)\n",
    "ax.axvline(x=2012,c=\"k\",linestyle='dashed',zorder=1,linewidth=.75)\n",
    "ax.set_xticks([v for i, v in enumerate(gdp_data.index.append(pd.Index([2017]))) if i % 4 == 0])\n",
    "ax.legend(loc='upper center', bbox_to_anchor=(1.15, -0.15),ncol=2);\n",
    "ax.set_title('Annual GDP growth',fontsize='small')\n",
    "box = ax.get_position()\n",
    "ax.set_position([box.x0, box.y0 + box.height * 0.1,\n",
    "                 box.width, box.height * 0.9])\n",
    "ax = plt.subplot(122)\n",
    "pal = sns.color_palette('Set1',n_colors=2)\n",
    "ax.plot(gdp_data_2y.iloc[:,0],color=pal[0],linestyle='dashed',label='Actual')\n",
    "ax.plot(gdp_data_2y.iloc[:,4],color=pal[1],label='Adjusted real GDP series')\n",
    "ax.set_title('Two-year GDP growth',fontsize='small')\n",
    "ax.set_ylabel('%, geometric average')\n",
    "ax.set_xlabel('Year')\n",
    "ax.axhline(y=0.0,c=\"k\",zorder=1,linewidth=.75)\n",
    "ax.axvline(x=2001,c=\"k\",linestyle='dashed',zorder=1,linewidth=.75)\n",
    "ax.axvline(x=2012,c=\"k\",linestyle='dashed',zorder=1,linewidth=.75)\n",
    "ax.set_xticks([v for i, v in enumerate(gdp_data.index[1:].append(pd.Index([2017,2018]))) if i % 4 == 0])\n",
    "box = ax.get_position()\n",
    "ax.set_position([box.x0, box.y0 + box.height * 0.1,\n",
    "                 box.width, box.height * 0.9])\n",
    "plt.subplots_adjust(wspace=.3,bottom=.2)\n",
    "y_axes(plt)"
   ]
  },
  {
   "cell_type": "markdown",
   "metadata": {},
   "source": [
    "## Figure 3"
   ]
  },
  {
   "cell_type": "code",
   "execution_count": 21,
   "metadata": {},
   "outputs": [
    {
     "data": {
      "image/png": "[encoded data removed]",
      "text/plain": [
       "<matplotlib.figure.Figure at 0x2b3b01a7d048>"
      ]
     },
     "metadata": {},
     "output_type": "display_data"
    }
   ],
   "source": [
    "plt.figure(figsize=(8,4))\n",
    "ax = plt.subplot(121)\n",
    "ax.set_title(\"Annual forecast errors\", fontsize='small')\n",
    "pal = sns.color_palette('Blues',n_colors=7)\n",
    "for i in range(4):\n",
    "    ax.plot(forecast_errors.iloc[:,i],color=pal[i+2])\n",
    "ax.add_artist(Ellipse((1999.5,1.25),width=2.5,height=3.5,\n",
    "                      alpha=1,edgecolor='r',fill=False,linewidth=1))\n",
    "ax.add_artist(Ellipse((2009,-4),width=3,height=3.25,\n",
    "                      alpha=1,edgecolor='r',fill=False,linewidth=1))\n",
    "ax.axhline(y=0,c='k',zorder=1,linewidth=.75)\n",
    "ax.axvline(x=2007,c=\"k\",linestyle='dashed',zorder=1,linewidth=.75)\n",
    "ax.legend(loc='upper center', bbox_to_anchor=(0.5, -0.15),ncol=4)\n",
    "ax.set_xticks([v for i, v in enumerate(forecast_errors.index.append(pd.Index([2017,2018]))) if i % 4 == 0])\n",
    "box = ax.get_position()\n",
    "ax.set_position([box.x0, box.y0 + box.height * 0.2,\n",
    "                 box.width, box.height * 0.8])\n",
    "ax.set_ylabel(\"Percentage points\")\n",
    "ax.set_xlabel('Year')\n",
    "ax = plt.subplot(122)\n",
    "ax.set_title(\"Two-year forecast errors\",fontsize='small')\n",
    "pal = sns.color_palette('Blues',n_colors=2)\n",
    "for i in range(4,6):\n",
    "    ax.plot(forecast_errors.iloc[:,i],color=pal[i-4])\n",
    "ax.set_ylabel('Percentage points')\n",
    "ax.set_xlabel('Year')\n",
    "ax.axhline(y=0,c='k',zorder=1,linewidth=.75)\n",
    "ax.axvline(x=2007,c=\"k\",linestyle='dashed',zorder=1,linewidth=.75)\n",
    "ax.add_artist(Ellipse((1999.5,1.5),width=2.5,height=2,\n",
    "                      alpha=1,edgecolor='r',fill=False,linewidth=1))\n",
    "ax.add_artist(Ellipse((2009,-2),width=3,height=2.5,\n",
    "                      alpha=1,edgecolor='r',fill=False,linewidth=1))\n",
    "ax.set_xticks([v for i, v in enumerate(forecast_errors.index[1:].append(pd.Index([2017,2018]))) if i % 4 == 0])\n",
    "ax.legend(loc='upper center', bbox_to_anchor=(0.5, -0.15),ncol=3)\n",
    "plt.subplots_adjust(bottom=.2,wspace=.3)\n",
    "y_axes(plt)"
   ]
  },
  {
   "cell_type": "markdown",
   "metadata": {},
   "source": [
    "## Figure 4"
   ]
  },
  {
   "cell_type": "code",
   "execution_count": 22,
   "metadata": {},
   "outputs": [
    {
     "data": {
      "image/png": "[encoded data removed]",
      "text/plain": [
       "<matplotlib.figure.Figure at 0x2b3b0191a940>"
      ]
     },
     "metadata": {},
     "output_type": "display_data"
    }
   ],
   "source": [
    "f = plt.figure(figsize=(8,12))\n",
    "levels = combined_fcast.columns\n",
    "pmin = np.floor(min(combined_fcast.min().min(),combined_gdp.min().min()))-1\n",
    "pmax = np.ceil(max(combined_fcast.max().max(),combined_gdp.max().max()))+1\n",
    "for i, v in enumerate(levels):\n",
    "    ax = plt.subplot(321+i)\n",
    "    plotdf = pd.concat((combined_fcast.loc[:,v].rename('Prediction (%)'),combined_gdp.loc[:,v].rename('Realization (%)')),axis=1).dropna(how='any')\n",
    "    ax.scatter(y='Realization (%)',x='Prediction (%)',data=plotdf,zorder=3,color=c1)\n",
    "    ax.set_ylabel('Realization (%)') if i%2==0 else None\n",
    "    ax.set_xlabel('Prediction (%)') if i>3 else None\n",
    "    ax.set_ylim(pmin,pmax)\n",
    "    ax.set_xlim(pmin,pmax)\n",
    "    ax.set_aspect(1)\n",
    "    l2 = ax.plot([pmin,pmax],[pmin,pmax],color='k',zorder=1,linewidth=.5,label='45$\\degree$ line')\n",
    "    b_1, b_0 = np.polyfit(plotdf.loc[:,'Prediction (%)'],plotdf.loc[:,'Realization (%)'],deg=1)\n",
    "    l = ax.plot([(pmin-b_0)/b_1,(pmax-b_0)/b_1],[pmin,pmax],color=c1,zorder=2,label='Linear regression line')\n",
    "    ax.set_title(v)\n",
    "plt.subplots_adjust(hspace=.3,wspace=0)\n",
    "plt.figlegend([l[0],l2[0]],[l[0].get_label(),l2[0].get_label()],loc='lower left',ncol=2,bbox_to_anchor=(0.24,0.03));"
   ]
  },
  {
   "cell_type": "markdown",
   "metadata": {},
   "source": [
    "## Figure 5"
   ]
  },
  {
   "cell_type": "code",
   "execution_count": 23,
   "metadata": {},
   "outputs": [
    {
     "data": {
      "image/png": "[encoded data removed]",
      "text/plain": [
       "<matplotlib.figure.Figure at 0x2b3b01912c18>"
      ]
     },
     "metadata": {},
     "output_type": "display_data"
    }
   ],
   "source": [
    "plt.figure(figsize=(9,4))\n",
    "p = plt.subplot(121)\n",
    "sns.barplot(data=rmse_gdp.iloc[:,0:4],ax=p,zorder=2)\n",
    "p.set_ylabel(r\"$\\frac{RMSPE_{BoC}}{RMSPE_{Naive}}$\",rotation='horizontal')\n",
    "p.yaxis.set_label_coords(-.25, .89)\n",
    "p.set_title(\"Annual RMSPE ratio\")\n",
    "plt.axhline(y=1,zorder=1,color='k',linewidth=.75)\n",
    "box = p.get_position()\n",
    "plt.subplots_adjust(left=.25,bottom=.2)\n",
    "p = plt.subplot(122)\n",
    "p.set_title(\"Two-year RMSPE ratio\")\n",
    "sns.barplot(data=rmse_gdp.iloc[:,4:6],ax=p,zorder=2,palette=sns.color_palette()[4:])\n",
    "plt.axhline(y=1,zorder=1,color='k',linewidth=.75)\n",
    "y_axes(plt)"
   ]
  },
  {
   "cell_type": "markdown",
   "metadata": {},
   "source": [
    "## Figure 6"
   ]
  },
  {
   "cell_type": "code",
   "execution_count": 24,
   "metadata": {},
   "outputs": [
    {
     "data": {
      "image/png": "[encoded data removed]",
      "text/plain": [
       "<matplotlib.figure.Figure at 0x2b3b01a69dd8>"
      ]
     },
     "metadata": {},
     "output_type": "display_data"
    }
   ],
   "source": [
    "plt.figure(figsize=(9,4))\n",
    "p = plt.subplot(121)\n",
    "sns.barplot(data=rmse_cons.iloc[:,0:4],ax=p,zorder=2)\n",
    "p.set_ylabel(r\"$\\frac{RMSPE_{BoC}}{RMSPE_{Consensus}}$\",rotation='horizontal')\n",
    "p.yaxis.set_label_coords(-.28 , .83)\n",
    "p.set_title(\"Annual RMSPE ratio\")\n",
    "plt.axhline(y=1,zorder=1,color='k',linewidth=.75)\n",
    "box = p.get_position()\n",
    "plt.subplots_adjust(left=.25,bottom=.2)\n",
    "p = plt.subplot(122)\n",
    "p.set_title(\"Two-year RMSPE ratio\")\n",
    "sns.barplot(data=rmse_cons.iloc[:,4:6],ax=p,zorder=2,palette=sns.color_palette()[4:])\n",
    "plt.axhline(y=1,zorder=1,color='k',linewidth=.75);\n",
    "y_axes(plt)"
   ]
  },
  {
   "cell_type": "markdown",
   "metadata": {},
   "source": [
    "# Tables"
   ]
  },
  {
   "cell_type": "markdown",
   "metadata": {},
   "source": [
    "## Table 2 - Forecast error bias with and without Asian crisis and Great Recession"
   ]
  },
  {
   "cell_type": "code",
   "execution_count": 25,
   "metadata": {},
   "outputs": [
    {
     "data": {
      "text/html": [
       "<div>\n",
       "<style>\n",
       "    .dataframe thead tr:only-child th {\n",
       "        text-align: right;\n",
       "    }\n",
       "\n",
       "    .dataframe thead th {\n",
       "        text-align: left;\n",
       "    }\n",
       "\n",
       "    .dataframe tbody tr th {\n",
       "        vertical-align: top;\n",
       "    }\n",
       "</style>\n",
       "<table border=\"1\" class=\"dataframe\">\n",
       "  <thead>\n",
       "    <tr style=\"text-align: right;\">\n",
       "      <th>Forecast Horizon</th>\n",
       "      <th>FH1</th>\n",
       "      <th>FH2</th>\n",
       "      <th>FH3</th>\n",
       "      <th>FH4</th>\n",
       "      <th>APRIL</th>\n",
       "      <th>OCTOBER</th>\n",
       "    </tr>\n",
       "  </thead>\n",
       "  <tbody>\n",
       "    <tr>\n",
       "      <th>Full Sample</th>\n",
       "      <td>-0.63*</td>\n",
       "      <td>-0.21</td>\n",
       "      <td>0.09</td>\n",
       "      <td>0.25*</td>\n",
       "      <td>-0.27</td>\n",
       "      <td>0.01</td>\n",
       "    </tr>\n",
       "    <tr>\n",
       "      <th></th>\n",
       "      <td>(-0.66)***</td>\n",
       "      <td>(-0.31)*</td>\n",
       "      <td>(-0.07)</td>\n",
       "      <td>(0.16)</td>\n",
       "      <td>(-0.33)***</td>\n",
       "      <td>(-0.11)</td>\n",
       "    </tr>\n",
       "    <tr>\n",
       "      <th>1997-2006</th>\n",
       "      <td>-0.13</td>\n",
       "      <td>0.23</td>\n",
       "      <td>0.32</td>\n",
       "      <td>0.36</td>\n",
       "      <td>0.13</td>\n",
       "      <td>0.32</td>\n",
       "    </tr>\n",
       "    <tr>\n",
       "      <th></th>\n",
       "      <td>(-0.71)***</td>\n",
       "      <td>(-0.36)</td>\n",
       "      <td>(0.01)</td>\n",
       "      <td>(0.19)</td>\n",
       "      <td>(-0.27)</td>\n",
       "      <td>(-0.11)</td>\n",
       "    </tr>\n",
       "    <tr>\n",
       "      <th>2007-2016</th>\n",
       "      <td>-1.09**</td>\n",
       "      <td>-0.60</td>\n",
       "      <td>-0.14</td>\n",
       "      <td>0.14</td>\n",
       "      <td>-0.63**</td>\n",
       "      <td>-0.26</td>\n",
       "    </tr>\n",
       "    <tr>\n",
       "      <th></th>\n",
       "      <td>(-0.62)***</td>\n",
       "      <td>(-0.28)</td>\n",
       "      <td>(-0.14)</td>\n",
       "      <td>(0.14)</td>\n",
       "      <td>(-0.38)***</td>\n",
       "      <td>(-0.11)</td>\n",
       "    </tr>\n",
       "  </tbody>\n",
       "</table>\n",
       "</div>"
      ],
      "text/plain": [
       "Forecast Horizon         FH1       FH2      FH3     FH4       APRIL  OCTOBER\n",
       "Full Sample       -0.63*      -0.21     0.09     0.25*   -0.27       0.01   \n",
       "                  (-0.66)***  (-0.31)*  (-0.07)  (0.16)  (-0.33)***  (-0.11)\n",
       "1997-2006         -0.13       0.23      0.32     0.36    0.13        0.32   \n",
       "                  (-0.71)***  (-0.36)   (0.01)   (0.19)  (-0.27)     (-0.11)\n",
       "2007-2016         -1.09**     -0.60     -0.14    0.14    -0.63**     -0.26  \n",
       "                  (-0.62)***  (-0.28)   (-0.14)  (0.14)  (-0.38)***  (-0.11)"
      ]
     },
     "execution_count": 25,
     "metadata": {},
     "output_type": "execute_result"
    }
   ],
   "source": [
    "samples = ['Full Sample','','1997-2006','','2007-2016','']\n",
    "stats_table = pd.DataFrame(index=samples,\n",
    "                              columns = forecast_errors.columns)\n",
    "numeric_table = stats_table.copy()\n",
    "for j,col in enumerate(forecast_errors.columns):\n",
    "    for i,s in enumerate(stats_table.index):\n",
    "        if i in [0,1]:\n",
    "            s_n = slice(1997,2016)\n",
    "        elif i in [2,3]:\n",
    "            s_n = slice(1997,2006)\n",
    "        elif i in [4,5]:\n",
    "            s_n = slice(2007,2016)\n",
    "        y = forecast_errors.loc[s_n,col].dropna()\n",
    "        if i % 2 == 1:\n",
    "            y = y.loc[[x for x in y.index if x not in [1999,2000]]]\n",
    "            if col not in ['FH3','FH4']:\n",
    "                y = y.loc[[x for x in y.index if x !=2009]]\n",
    "        x = np.ones(y.shape)\n",
    "        length = len(x)\n",
    "        n_lags = int(4*(length/100)**(2/9))\n",
    "        p_v = sm.OLS(y,x).fit(cov_type='HAC',cov_kwds={'maxlags':n_lags,'use_correction':True}).pvalues.item()\n",
    "        numeric_table.iloc[i,j] = y.mean()\n",
    "        stats_table.iloc[i,j] = ('(' if i%2 == 1 else '') + f1(y.mean()) + (')' if i%2 == 1 else '')+ \\\n",
    "        ('*' if p_v<.1 else '') + \\\n",
    "        ('*' if p_v<.05 else '') + \\\n",
    "        ('*' if p_v<.01 else '') \n",
    "stats_table"
   ]
  },
  {
   "cell_type": "markdown",
   "metadata": {},
   "source": [
    "## Table 3 - RMSPE with and without bias (RMSPE vs Std. Dev.)"
   ]
  },
  {
   "cell_type": "code",
   "execution_count": 26,
   "metadata": {},
   "outputs": [
    {
     "data": {
      "text/html": [
       "<div>\n",
       "<style>\n",
       "    .dataframe thead tr:only-child th {\n",
       "        text-align: right;\n",
       "    }\n",
       "\n",
       "    .dataframe thead th {\n",
       "        text-align: left;\n",
       "    }\n",
       "\n",
       "    .dataframe tbody tr th {\n",
       "        vertical-align: top;\n",
       "    }\n",
       "</style>\n",
       "<table border=\"1\" class=\"dataframe\">\n",
       "  <thead>\n",
       "    <tr style=\"text-align: right;\">\n",
       "      <th></th>\n",
       "      <th>FH1</th>\n",
       "      <th>FH2</th>\n",
       "      <th>FH3</th>\n",
       "      <th>FH4</th>\n",
       "      <th>APRIL</th>\n",
       "      <th>OCTOBER</th>\n",
       "    </tr>\n",
       "  </thead>\n",
       "  <tbody>\n",
       "    <tr>\n",
       "      <th>Full sample</th>\n",
       "      <td>1.63</td>\n",
       "      <td>1.41</td>\n",
       "      <td>0.78</td>\n",
       "      <td>0.64</td>\n",
       "      <td>0.99</td>\n",
       "      <td>0.87</td>\n",
       "    </tr>\n",
       "    <tr>\n",
       "      <th></th>\n",
       "      <td>(1.50)</td>\n",
       "      <td>(1.39)</td>\n",
       "      <td>(0.77)</td>\n",
       "      <td>(0.59)</td>\n",
       "      <td>(0.96)</td>\n",
       "      <td>(0.87)</td>\n",
       "    </tr>\n",
       "    <tr>\n",
       "      <th>1997-2006</th>\n",
       "      <td>1.25</td>\n",
       "      <td>1.50</td>\n",
       "      <td>0.95</td>\n",
       "      <td>0.74</td>\n",
       "      <td>0.88</td>\n",
       "      <td>1.03</td>\n",
       "    </tr>\n",
       "    <tr>\n",
       "      <th></th>\n",
       "      <td>(1.24)</td>\n",
       "      <td>(1.48)</td>\n",
       "      <td>(0.90)</td>\n",
       "      <td>(0.64)</td>\n",
       "      <td>(0.87)</td>\n",
       "      <td>(0.97)</td>\n",
       "    </tr>\n",
       "    <tr>\n",
       "      <th>2007-2016</th>\n",
       "      <td>1.91</td>\n",
       "      <td>1.32</td>\n",
       "      <td>0.55</td>\n",
       "      <td>0.52</td>\n",
       "      <td>1.08</td>\n",
       "      <td>0.70</td>\n",
       "    </tr>\n",
       "    <tr>\n",
       "      <th></th>\n",
       "      <td>(1.57)</td>\n",
       "      <td>(1.18)</td>\n",
       "      <td>(0.53)</td>\n",
       "      <td>(0.50)</td>\n",
       "      <td>(0.88)</td>\n",
       "      <td>(0.65)</td>\n",
       "    </tr>\n",
       "  </tbody>\n",
       "</table>\n",
       "</div>"
      ],
      "text/plain": [
       "                FH1     FH2     FH3     FH4   APRIL OCTOBER\n",
       "Full sample  1.63    1.41    0.78    0.64    0.99    0.87  \n",
       "             (1.50)  (1.39)  (0.77)  (0.59)  (0.96)  (0.87)\n",
       "1997-2006    1.25    1.50    0.95    0.74    0.88    1.03  \n",
       "             (1.24)  (1.48)  (0.90)  (0.64)  (0.87)  (0.97)\n",
       "2007-2016    1.91    1.32    0.55    0.52    1.08    0.70  \n",
       "             (1.57)  (1.18)  (0.53)  (0.50)  (0.88)  (0.65)"
      ]
     },
     "execution_count": 26,
     "metadata": {},
     "output_type": "execute_result"
    }
   ],
   "source": [
    "rmse_table = pd.DataFrame(columns=['FH1', 'FH2', 'FH3', 'FH4', 'APRIL', 'OCTOBER']\n",
    "                          ,index = ['Full sample','',\n",
    "                                                '1997-2006','',\n",
    "                                               '2007-2016',''])\n",
    "for col in rmse_table.columns:\n",
    "    for s in rmse_table.index:\n",
    "        if s == 'Full sample':\n",
    "            i = 0\n",
    "            s_n = slice(1997,2016)\n",
    "        elif s == '1997-2006':\n",
    "            i = 1 \n",
    "            s_n = slice(1997,2006)\n",
    "        elif s == '2007-2016':\n",
    "            i = 2 \n",
    "            s_n = slice(2007,2016)\n",
    "        rmse_table.iloc[i*2].loc[col] = f1(np.sqrt(forecast_errors.loc[s_n,col].pow(2).mean()))\n",
    "        rmse_table.iloc[i*2+1].loc[col] = '({})'.format(f1(forecast_errors.loc[s_n,col].std(ddof=0)))\n",
    "rmse_table"
   ]
  },
  {
   "cell_type": "markdown",
   "metadata": {},
   "source": [
    "## Table 4 - Mincer Zarnowitz result"
   ]
  },
  {
   "cell_type": "code",
   "execution_count": 27,
   "metadata": {},
   "outputs": [
    {
     "data": {
      "text/html": [
       "<div>\n",
       "<style>\n",
       "    .dataframe thead tr:only-child th {\n",
       "        text-align: right;\n",
       "    }\n",
       "\n",
       "    .dataframe thead th {\n",
       "        text-align: left;\n",
       "    }\n",
       "\n",
       "    .dataframe tbody tr th {\n",
       "        vertical-align: top;\n",
       "    }\n",
       "</style>\n",
       "<table border=\"1\" class=\"dataframe\">\n",
       "  <thead>\n",
       "    <tr style=\"text-align: right;\">\n",
       "      <th>Forecast Horizon</th>\n",
       "      <th>FH1</th>\n",
       "      <th>FH2</th>\n",
       "      <th>FH3</th>\n",
       "      <th>FH4</th>\n",
       "      <th>APRIL</th>\n",
       "      <th>OCTOBER</th>\n",
       "    </tr>\n",
       "  </thead>\n",
       "  <tbody>\n",
       "    <tr>\n",
       "      <th>Constant</th>\n",
       "      <td>-4.49</td>\n",
       "      <td>-1.21</td>\n",
       "      <td>-0.13</td>\n",
       "      <td>-0.01</td>\n",
       "      <td>-0.89</td>\n",
       "      <td>-0.37</td>\n",
       "    </tr>\n",
       "    <tr>\n",
       "      <th></th>\n",
       "      <td>(2.62)</td>\n",
       "      <td>(1.82)</td>\n",
       "      <td>(0.23)</td>\n",
       "      <td>(0.08)</td>\n",
       "      <td>(0.70)</td>\n",
       "      <td>(0.61)</td>\n",
       "    </tr>\n",
       "    <tr>\n",
       "      <th>Forecast</th>\n",
       "      <td>2.29</td>\n",
       "      <td>1.39</td>\n",
       "      <td>1.09</td>\n",
       "      <td>1.12</td>\n",
       "      <td>1.23</td>\n",
       "      <td>1.16</td>\n",
       "    </tr>\n",
       "    <tr>\n",
       "      <th></th>\n",
       "      <td>(0.85)</td>\n",
       "      <td>(0.66)</td>\n",
       "      <td>(0.12)</td>\n",
       "      <td>(0.06)</td>\n",
       "      <td>(0.27)</td>\n",
       "      <td>(0.24)</td>\n",
       "    </tr>\n",
       "    <tr>\n",
       "      <th>R-Squared</th>\n",
       "      <td>0.34</td>\n",
       "      <td>0.37</td>\n",
       "      <td>0.81</td>\n",
       "      <td>0.90</td>\n",
       "      <td>0.57</td>\n",
       "      <td>0.64</td>\n",
       "    </tr>\n",
       "    <tr>\n",
       "      <th></th>\n",
       "      <td></td>\n",
       "      <td></td>\n",
       "      <td></td>\n",
       "      <td></td>\n",
       "      <td></td>\n",
       "      <td></td>\n",
       "    </tr>\n",
       "    <tr>\n",
       "      <th>Joint F-Test</th>\n",
       "      <td>2.61</td>\n",
       "      <td>0.32</td>\n",
       "      <td>0.32</td>\n",
       "      <td>1.84</td>\n",
       "      <td>1.39</td>\n",
       "      <td>0.22</td>\n",
       "    </tr>\n",
       "  </tbody>\n",
       "</table>\n",
       "</div>"
      ],
      "text/plain": [
       "Forecast Horizon     FH1     FH2     FH3     FH4   APRIL OCTOBER\n",
       "Constant          -4.49   -1.21   -0.13   -0.01   -0.89   -0.37 \n",
       "                  (2.62)  (1.82)  (0.23)  (0.08)  (0.70)  (0.61)\n",
       "Forecast          2.29    1.39    1.09    1.12    1.23    1.16  \n",
       "                  (0.85)  (0.66)  (0.12)  (0.06)  (0.27)  (0.24)\n",
       "R-Squared         0.34    0.37    0.81    0.90    0.57    0.64  \n",
       "                                                                \n",
       "Joint F-Test      2.61    0.32    0.32    1.84    1.39    0.22  "
      ]
     },
     "execution_count": 27,
     "metadata": {},
     "output_type": "execute_result"
    }
   ],
   "source": [
    "x = combined_fcast.where(~combined_gdp.isnull())\n",
    "y = combined_gdp.where(~combined_fcast.isnull())\n",
    "resdf = pd.DataFrame(index = ['Constant',' ','Forecast',' ','R-Squared',' ','Joint F-Test'],\n",
    "                    columns = x.columns)\n",
    "for i, col in enumerate(x.columns):\n",
    "    model = sm.OLS(y.loc[:,col].dropna(),sm.add_constant(x.loc[:,col].dropna()))\n",
    "    length = x.loc[:,col].dropna().shape[0]\n",
    "    # newey west lag selection\n",
    "    n_lags = int(4*(length/100)**(2/9))\n",
    "    res = model.fit(cov_type='HAC',cov_kwds={'maxlags':n_lags,'use_correction':True})\n",
    "    R = '({} = 1), (const = 0)'.format(col)\n",
    "    resdf.iloc[0,i]=f1(res.params.get('const'))\n",
    "    resdf.iloc[1,i]='({})'.format(f1(res.bse.get('const')))\n",
    "    resdf.iloc[2,i]=f1(res.params.get(col))\n",
    "    resdf.iloc[3,i]='({})'.format(f1(res.bse.get(col)))\n",
    "    resdf.iloc[4,i]='{}'.format(f1(res.rsquared))\n",
    "    resdf.iloc[5,i]=' '\n",
    "    resdf.iloc[6,i]=f1(res.f_test(R).fvalue.item()) + \\\n",
    "    ('*' if res.f_test(R).pvalue.item()<.1 else '') + \\\n",
    "    ('*' if res.f_test(R).pvalue.item()<.05 else '') + \\\n",
    "    ('*' if res.f_test(R).pvalue.item()<.01 else '')\n",
    "resdf"
   ]
  },
  {
   "cell_type": "markdown",
   "metadata": {},
   "source": [
    "## Table 5 - Hit Ratio"
   ]
  },
  {
   "cell_type": "code",
   "execution_count": 28,
   "metadata": {},
   "outputs": [
    {
     "data": {
      "text/html": [
       "<div>\n",
       "<style>\n",
       "    .dataframe thead tr:only-child th {\n",
       "        text-align: right;\n",
       "    }\n",
       "\n",
       "    .dataframe thead th {\n",
       "        text-align: left;\n",
       "    }\n",
       "\n",
       "    .dataframe tbody tr th {\n",
       "        vertical-align: top;\n",
       "    }\n",
       "</style>\n",
       "<table border=\"1\" class=\"dataframe\">\n",
       "  <thead>\n",
       "    <tr style=\"text-align: right;\">\n",
       "      <th>Forecast Horizon</th>\n",
       "      <th>FH1</th>\n",
       "      <th>FH2</th>\n",
       "      <th>FH3</th>\n",
       "      <th>FH4</th>\n",
       "      <th>APRIL</th>\n",
       "      <th>OCTOBER</th>\n",
       "    </tr>\n",
       "  </thead>\n",
       "  <tbody>\n",
       "    <tr>\n",
       "      <th>Hit Ratio</th>\n",
       "      <td>47%</td>\n",
       "      <td>58%</td>\n",
       "      <td>74%</td>\n",
       "      <td>74%</td>\n",
       "      <td>59%</td>\n",
       "      <td>65%</td>\n",
       "    </tr>\n",
       "  </tbody>\n",
       "</table>\n",
       "</div>"
      ],
      "text/plain": [
       "Forecast Horizon  FH1  FH2  FH3  FH4 APRIL OCTOBER\n",
       "Hit Ratio         47%  58%  74%  74%  59%   65%   "
      ]
     },
     "execution_count": 28,
     "metadata": {},
     "output_type": "execute_result"
    }
   ],
   "source": [
    "combined_fcast_diff = combined_fcast.copy()\n",
    "for year in combined_fcast_diff.index:\n",
    "    for col in combined_fcast_diff.columns:\n",
    "        try:\n",
    "            if col == 'FH1':\n",
    "                combined_fcast_diff.loc[year,col] = combined_fcast.loc[year,'FH1'] - combined_fcast.loc[year-1,'FH3']\n",
    "            elif col == 'FH2':\n",
    "                combined_fcast_diff.loc[year,col] = combined_fcast.loc[year,'FH2'] - combined_fcast.loc[year-1,'FH4']\n",
    "            elif col == 'FH3':\n",
    "                combined_fcast_diff.loc[year,col] = combined_fcast.loc[year,'FH3'] - combined_gdp.loc[year-1,'FH3']\n",
    "            elif col == 'FH4':\n",
    "                combined_fcast_diff.loc[year,col] = combined_fcast.loc[year,'FH4'] - combined_gdp.loc[year-1,'FH4']\n",
    "            elif col == 'APRIL':\n",
    "                combined_fcast_diff.loc[year,col] = combined_fcast.loc[year,'APRIL'] - combined_gdp.loc[year-2,'APRIL']\n",
    "            elif col == 'OCTOBER':\n",
    "                combined_fcast_diff.loc[year,col] = combined_fcast.loc[year,'OCTOBER'] - combined_gdp.loc[year-2,'OCTOBER']\n",
    "        except:\n",
    "            combined_fcast_diff.loc[year,col] = np.nan\n",
    "combined_gdp_diff = combined_gdp.diff()\n",
    "for year in combined_gdp_diff.index:\n",
    "    for col in combined_gdp_diff.columns:\n",
    "        try:\n",
    "            if col == 'APRIL':\n",
    "                combined_gdp_diff.loc[year,'APRIL'] = combined_gdp.loc[year, 'APRIL'] - combined_gdp.loc[year-2,'FH3']\n",
    "            elif col == 'OCTOBER':\n",
    "                combined_gdp_diff.loc[year,'OCTOBER'] = combined_gdp.loc[year, 'OCTOBER'] - combined_gdp.loc[year-2,'FH4']\n",
    "        except:\n",
    "            combined_gdp_diff.loc[year,col] = np.nan\n",
    "product = combined_gdp_diff*combined_fcast_diff\n",
    "hit_ratio = pd.DataFrame(columns=combined_fcast.columns,index=['Hit Ratio'])\n",
    "for col in hit_ratio.columns:\n",
    "    v = product.loc[:,col]\n",
    "    hit_ratio.loc[:,col] = '{:.0%}'.format(v[v>0].count()/v.count())\n",
    "hit_ratio"
   ]
  },
  {
   "cell_type": "markdown",
   "metadata": {},
   "source": [
    "## Appendix B - Adjusted GDP - impact of changes decomposed"
   ]
  },
  {
   "cell_type": "code",
   "execution_count": 29,
   "metadata": {},
   "outputs": [
    {
     "data": {
      "text/html": [
       "<div>\n",
       "<style>\n",
       "    .dataframe thead tr:only-child th {\n",
       "        text-align: right;\n",
       "    }\n",
       "\n",
       "    .dataframe thead th {\n",
       "        text-align: left;\n",
       "    }\n",
       "\n",
       "    .dataframe tbody tr th {\n",
       "        vertical-align: top;\n",
       "    }\n",
       "</style>\n",
       "<table border=\"1\" class=\"dataframe\">\n",
       "  <thead>\n",
       "    <tr style=\"text-align: right;\">\n",
       "      <th></th>\n",
       "      <th>Chain Fisher (current methodology)</th>\n",
       "      <th>Laspeyres index</th>\n",
       "      <th>Software</th>\n",
       "      <th>R&amp;D and Weapons</th>\n",
       "      <th>Adjusted GDP</th>\n",
       "    </tr>\n",
       "    <tr>\n",
       "      <th>year</th>\n",
       "      <th></th>\n",
       "      <th></th>\n",
       "      <th></th>\n",
       "      <th></th>\n",
       "      <th></th>\n",
       "    </tr>\n",
       "  </thead>\n",
       "  <tbody>\n",
       "    <tr>\n",
       "      <th>1997</th>\n",
       "      <td>4.28</td>\n",
       "      <td>0.29</td>\n",
       "      <td>0.06</td>\n",
       "      <td>-0.12</td>\n",
       "      <td>4.63</td>\n",
       "    </tr>\n",
       "    <tr>\n",
       "      <th>1998</th>\n",
       "      <td>3.88</td>\n",
       "      <td>-0.04</td>\n",
       "      <td>0.05</td>\n",
       "      <td>0.02</td>\n",
       "      <td>3.77</td>\n",
       "    </tr>\n",
       "    <tr>\n",
       "      <th>1999</th>\n",
       "      <td>5.16</td>\n",
       "      <td>0.36</td>\n",
       "      <td>0.08</td>\n",
       "      <td>0.03</td>\n",
       "      <td>5.41</td>\n",
       "    </tr>\n",
       "    <tr>\n",
       "      <th>2000</th>\n",
       "      <td>5.18</td>\n",
       "      <td>0.29</td>\n",
       "      <td>0.08</td>\n",
       "      <td>0.23</td>\n",
       "      <td>5.17</td>\n",
       "    </tr>\n",
       "    <tr>\n",
       "      <th>2001</th>\n",
       "      <td>1.77</td>\n",
       "      <td>-0.29</td>\n",
       "      <td>0.07</td>\n",
       "      <td>0.09</td>\n",
       "      <td>1.32</td>\n",
       "    </tr>\n",
       "    <tr>\n",
       "      <th>2002</th>\n",
       "      <td>3.01</td>\n",
       "      <td>-0.11</td>\n",
       "      <td>0.07</td>\n",
       "      <td>-0.04</td>\n",
       "      <td>2.87</td>\n",
       "    </tr>\n",
       "    <tr>\n",
       "      <th>2003</th>\n",
       "      <td>1.80</td>\n",
       "      <td>NaN</td>\n",
       "      <td>NaN</td>\n",
       "      <td>0.01</td>\n",
       "      <td>1.79</td>\n",
       "    </tr>\n",
       "    <tr>\n",
       "      <th>2004</th>\n",
       "      <td>3.09</td>\n",
       "      <td>NaN</td>\n",
       "      <td>NaN</td>\n",
       "      <td>0.04</td>\n",
       "      <td>3.05</td>\n",
       "    </tr>\n",
       "    <tr>\n",
       "      <th>2005</th>\n",
       "      <td>3.20</td>\n",
       "      <td>NaN</td>\n",
       "      <td>NaN</td>\n",
       "      <td>0.02</td>\n",
       "      <td>3.18</td>\n",
       "    </tr>\n",
       "    <tr>\n",
       "      <th>2006</th>\n",
       "      <td>2.62</td>\n",
       "      <td>NaN</td>\n",
       "      <td>NaN</td>\n",
       "      <td>-0.01</td>\n",
       "      <td>2.63</td>\n",
       "    </tr>\n",
       "    <tr>\n",
       "      <th>2007</th>\n",
       "      <td>2.06</td>\n",
       "      <td>NaN</td>\n",
       "      <td>NaN</td>\n",
       "      <td>-0.06</td>\n",
       "      <td>2.12</td>\n",
       "    </tr>\n",
       "    <tr>\n",
       "      <th>2008</th>\n",
       "      <td>1.00</td>\n",
       "      <td>NaN</td>\n",
       "      <td>NaN</td>\n",
       "      <td>0.11</td>\n",
       "      <td>0.89</td>\n",
       "    </tr>\n",
       "    <tr>\n",
       "      <th>2009</th>\n",
       "      <td>-2.95</td>\n",
       "      <td>NaN</td>\n",
       "      <td>NaN</td>\n",
       "      <td>-0.06</td>\n",
       "      <td>-2.89</td>\n",
       "    </tr>\n",
       "    <tr>\n",
       "      <th>2010</th>\n",
       "      <td>3.08</td>\n",
       "      <td>NaN</td>\n",
       "      <td>NaN</td>\n",
       "      <td>0.01</td>\n",
       "      <td>3.08</td>\n",
       "    </tr>\n",
       "    <tr>\n",
       "      <th>2011</th>\n",
       "      <td>3.14</td>\n",
       "      <td>NaN</td>\n",
       "      <td>NaN</td>\n",
       "      <td>0.03</td>\n",
       "      <td>3.12</td>\n",
       "    </tr>\n",
       "    <tr>\n",
       "      <th>2012</th>\n",
       "      <td>1.75</td>\n",
       "      <td>NaN</td>\n",
       "      <td>NaN</td>\n",
       "      <td>-0.09</td>\n",
       "      <td>1.83</td>\n",
       "    </tr>\n",
       "    <tr>\n",
       "      <th>2013</th>\n",
       "      <td>2.48</td>\n",
       "      <td>NaN</td>\n",
       "      <td>NaN</td>\n",
       "      <td>-0.00</td>\n",
       "      <td>2.48</td>\n",
       "    </tr>\n",
       "    <tr>\n",
       "      <th>2014</th>\n",
       "      <td>2.57</td>\n",
       "      <td>NaN</td>\n",
       "      <td>NaN</td>\n",
       "      <td>NaN</td>\n",
       "      <td>2.57</td>\n",
       "    </tr>\n",
       "    <tr>\n",
       "      <th>2015</th>\n",
       "      <td>0.94</td>\n",
       "      <td>NaN</td>\n",
       "      <td>NaN</td>\n",
       "      <td>NaN</td>\n",
       "      <td>0.94</td>\n",
       "    </tr>\n",
       "    <tr>\n",
       "      <th>2016</th>\n",
       "      <td>1.47</td>\n",
       "      <td>NaN</td>\n",
       "      <td>NaN</td>\n",
       "      <td>NaN</td>\n",
       "      <td>1.47</td>\n",
       "    </tr>\n",
       "  </tbody>\n",
       "</table>\n",
       "</div>"
      ],
      "text/plain": [
       "      Chain Fisher (current methodology)  Laspeyres index  Software  \\\n",
       "year                                                                  \n",
       "1997  4.28                                0.29             0.06       \n",
       "1998  3.88                               -0.04             0.05       \n",
       "1999  5.16                                0.36             0.08       \n",
       "2000  5.18                                0.29             0.08       \n",
       "2001  1.77                               -0.29             0.07       \n",
       "2002  3.01                               -0.11             0.07       \n",
       "2003  1.80                               NaN              NaN         \n",
       "2004  3.09                               NaN              NaN         \n",
       "2005  3.20                               NaN              NaN         \n",
       "2006  2.62                               NaN              NaN         \n",
       "2007  2.06                               NaN              NaN         \n",
       "2008  1.00                               NaN              NaN         \n",
       "2009 -2.95                               NaN              NaN         \n",
       "2010  3.08                               NaN              NaN         \n",
       "2011  3.14                               NaN              NaN         \n",
       "2012  1.75                               NaN              NaN         \n",
       "2013  2.48                               NaN              NaN         \n",
       "2014  2.57                               NaN              NaN         \n",
       "2015  0.94                               NaN              NaN         \n",
       "2016  1.47                               NaN              NaN         \n",
       "\n",
       "      R&D and Weapons  Adjusted GDP  \n",
       "year                                 \n",
       "1997 -0.12             4.63          \n",
       "1998  0.02             3.77          \n",
       "1999  0.03             5.41          \n",
       "2000  0.23             5.17          \n",
       "2001  0.09             1.32          \n",
       "2002 -0.04             2.87          \n",
       "2003  0.01             1.79          \n",
       "2004  0.04             3.05          \n",
       "2005  0.02             3.18          \n",
       "2006 -0.01             2.63          \n",
       "2007 -0.06             2.12          \n",
       "2008  0.11             0.89          \n",
       "2009 -0.06            -2.89          \n",
       "2010  0.01             3.08          \n",
       "2011  0.03             3.12          \n",
       "2012 -0.09             1.83          \n",
       "2013 -0.00             2.48          \n",
       "2014 NaN               2.57          \n",
       "2015 NaN               0.94          \n",
       "2016 NaN               1.47          "
      ]
     },
     "execution_count": 29,
     "metadata": {},
     "output_type": "execute_result"
    }
   ],
   "source": [
    "appendix_b.round(2)"
   ]
  },
  {
   "cell_type": "markdown",
   "metadata": {},
   "source": [
    "# Statistics mentioned in the text"
   ]
  },
  {
   "cell_type": "markdown",
   "metadata": {},
   "source": [
    "_We observe that the MPR outlook for real GDP appears to be downgraded often, as more information becomes available - roughly two thirds of the time._"
   ]
  },
  {
   "cell_type": "code",
   "execution_count": 30,
   "metadata": {},
   "outputs": [
    {
     "data": {
      "text/plain": [
       "0.59999999999999998"
      ]
     },
     "execution_count": 30,
     "metadata": {},
     "output_type": "execute_result"
    }
   ],
   "source": [
    "downgrade = pd.DataFrame(index=combined_fcast.index)\n",
    "downgrade.loc[:,'FH4 - FH3'] = combined_fcast.loc[:,'FH4'] - combined_fcast.loc[:,'FH3']\n",
    "downgrade.loc[:,'FH3 - FH2'] = combined_fcast.loc[:,'FH3'] - combined_fcast.loc[:,'FH2']\n",
    "downgrade.loc[:,'FH2 - FH1'] = combined_fcast.loc[:,'FH2'] - combined_fcast.loc[:,'FH1']\n",
    "(downgrade[downgrade<0].count()/downgrade.count()).mean()"
   ]
  }
 ],
 "metadata": {
  "anaconda-cloud": {},
  "kernelspec": {
   "display_name": "Python 3",
   "language": "python",
   "name": "python3"
  },
  "language_info": {
   "codemirror_mode": {
    "name": "ipython",
    "version": 3
   },
   "file_extension": ".py",
   "mimetype": "text/x-python",
   "name": "python",
   "nbconvert_exporter": "python",
   "pygments_lexer": "ipython3",
   "version": "3.6.3"
  }
 },
 "nbformat": 4,
 "nbformat_minor": 2
}
